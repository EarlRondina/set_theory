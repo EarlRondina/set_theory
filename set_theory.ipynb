{
 "cells": [
  {
   "cell_type": "code",
   "execution_count": 1,
   "id": "edd148f9",
   "metadata": {},
   "outputs": [],
   "source": [
    "from matplotlib_venn import venn2, venn2_circles, venn2_unweighted\n",
    "from matplotlib_venn import venn3, venn3_circles\n",
    "from matplotlib import pyplot as plt\n",
    "import pandas as pd\n",
    "%matplotlib inline"
   ]
  },
  {
   "cell_type": "code",
   "execution_count": 25,
   "id": "68e82268",
   "metadata": {},
   "outputs": [],
   "source": [
    "def drawVenn2(A,B,labels = ('A', 'B')):\n",
    "    '''\n",
    "    listing elements in Venn diagram of two sets\n",
    "    '''\n",
    "    v2=venn2([A,B],set_labels = labels);\n",
    "    v2.get_label_by_id('01').set_text(', '.join(map(str,B-A)))\n",
    "    v2.get_label_by_id('10').set_text(', '.join(map(str,A-B)))\n",
    "    if A&B:\n",
    "        v2.get_label_by_id('11').set_text(', '.join(map(str,A&B)))"
   ]
  },
  {
   "cell_type": "code",
   "execution_count": 26,
   "id": "4bd0efda",
   "metadata": {},
   "outputs": [],
   "source": [
    "def drawVenn3(A,B,C,labels = ('A', 'B', 'C')):\n",
    "    '''\n",
    "    listing elements in Venn diagram of three sets, A, B, C\n",
    "    '''\n",
    "    v3=venn3([A,B,C],set_labels = labels);\n",
    "    if A-B-C:\n",
    "        v3.get_label_by_id('100').set_text('\\n'.join(map(str,A-B-C)))\n",
    "        v3.get_patch_by_id('100').set_alpha(0.6)\n",
    "        v3.get_patch_by_id('100').set_facecolor('Yellow')\n",
    "    if A&B-C:\n",
    "        v3.get_label_by_id('110').set_text('\\n'.join(map(str,A&B-C)))\n",
    "        v3.get_patch_by_id('110').set_alpha(0.3)\n",
    "        v3.get_patch_by_id('110').set_facecolor('Red')\n",
    "    if B-C-A:\n",
    "        v3.get_label_by_id('010').set_text('\\n'.join(map(str,B-C-A)))\n",
    "        v3.get_patch_by_id('010').set_alpha(0.6)\n",
    "        v3.get_patch_by_id('010').set_facecolor('Magenta')\n",
    "    if A&C-B:\n",
    "        v3.get_label_by_id('101').set_text('\\n'.join(map(str,A&C-B)))\n",
    "        v3.get_patch_by_id('101').set_alpha(0.3)\n",
    "        v3.get_patch_by_id('101').set_facecolor('Green')\n",
    "    if A&B&C:\n",
    "        v3.get_label_by_id('111').set_text('\\n'.join(map(str,A&B&C)))\n",
    "        v3.get_patch_by_id('111').set_alpha(0.1)\n",
    "        v3.get_patch_by_id('111').set_facecolor('Black')\n",
    "    if B&C-A:\n",
    "        v3.get_label_by_id('011').set_text('\\n'.join(map(str,B&C-A)))\n",
    "        v3.get_patch_by_id('011').set_alpha(0.3)\n",
    "        v3.get_patch_by_id('011').set_facecolor('Blue')\n",
    "    if C-B-A:\n",
    "        v3.get_label_by_id('001').set_text('\\n'.join(map(str,C-B-A)))\n",
    "        v3.get_patch_by_id('001').set_alpha(0.6)\n",
    "        v3.get_patch_by_id('001').set_facecolor('Cyan')"
   ]
  },
  {
   "cell_type": "markdown",
   "id": "5db7711c",
   "metadata": {},
   "source": [
    "# Compliment\n",
    "$U^{c} = \\emptyset$\n",
    "Yes, that's correct. The complement of a universal set is indeed the null set (also known as the empty set). In set theory, the universal set is defined as the set that contains all possible elements under consideration. The complement of a set includes all the elements that are not in the set.\n",
    "\n",
    "So, when you take the complement of the universal set (which includes all possible elements), there are no elements left outside of the universal set, and the result is the empty set, denoted by $\\emptyset$. Mathematically, this can be represented as:$\\emptyset\\$"
   ]
  },
  {
   "cell_type": "markdown",
   "id": "1f76593a",
   "metadata": {},
   "source": [
    "# 1: Proving Identities\n",
    "&nbsp;&nbsp;&nbsp;&nbsp;\n",
    "$\\textbf{U}=\\{ \\emptyset, 1, 2, 3, 4, 5, 6, 7, 8, 9, 10\\}$<br>\n",
    "&nbsp;&nbsp;&nbsp;&nbsp;\n",
    "$\\textbf{A}=\\{ 1, 2, 5, 7\\}$<br>\n",
    "&nbsp;&nbsp;&nbsp;&nbsp;\n",
    "$\\textbf{B}=\\{ 3, 6, 7, 8, 9\\}$<br>\n",
    "&nbsp;&nbsp;&nbsp;&nbsp;\n",
    "### 1.     $\\textbf{A}\\setminus\\textbf{B}=\\textbf{A}\\cap\\textbf{B}^c$<br>\n",
    "- $\\textbf{A}\\setminus\\textbf{B}=\\{ 1, 2, 5\\}$<br>\n",
    "- $\\textbf{B}^c=\\{ 1, 2, 4, 5, 10\\}$<br>\n",
    "- $\\textbf{A}\\cap\\textbf{B}^c=\\{ 1, 2, 5\\}$<br>\n",
    "- $\\textbf{A}\\setminus\\textbf{B}=\\textbf{A}\\cap\\textbf{B}^c$<br>\n",
    "### 2.     $\\textbf{B}=(\\textbf{B}\\cap\\textbf{A})\\cup(\\textbf{B}\\cap\\textbf{A}^c)$<br>\n",
    "- $\\textbf{B}\\cap\\textbf{A}=\\{ 7\\}$<br>\n",
    "- $\\textbf{A}^c=\\{ 3, 4, 6, 8, 9, 10\\}$<br>\n",
    "- $\\textbf{B}\\cap\\textbf{A}^c=\\{ 3, 6, 8, 9\\}$<br>\n",
    "- $(\\textbf{B}\\cap\\textbf{A})\\cup(\\textbf{B}\\cap\\textbf{A}^c)=\\{ 3, 6, 7, 8, 9\\}$<br>\n",
    "- $\\textbf{B}=(\\textbf{B}\\cap\\textbf{A})\\cup(\\textbf{B}\\cap\\textbf{A}^c)$<br>\n",
    "### 3.     $\\textbf{B}\\setminus\\textbf{A}=\\textbf{B}\\cap\\textbf{A}^c$<br>\n",
    "- $\\textbf{B}\\setminus\\textbf{A}=\\{ 3, 6, 8, 9\\}$<br>\n",
    "- $\\textbf{A}^c=\\{ 3, 4, 6, 8, 9, 10\\}$<br>\n",
    "- $\\textbf{B}\\cap\\textbf{A}^c=\\{ 3, 6, 8, 9\\}$<br>\n",
    "- $\\textbf{B}\\setminus\\textbf{A}=\\textbf{B}\\cap\\textbf{A}^c$<br>\n",
    "### 4.     $\\textbf{A}\\cup\\textbf{B}=\\textbf{A}\\cup(\\textbf{B}\\cap\\textbf{A}^c)$<br>\n",
    "- $\\textbf{A}\\cup\\textbf{B}=\\{ 1, 2, 3, 5, 6, 7, 8, 9\\}$<br>\n",
    "- $\\textbf{A}^c=\\{ 3, 4, 6, 8, 9, 10\\}$<br>\n",
    "- $\\textbf{B}\\cap\\textbf{A}^c=\\{ 3, 6, 8, 9\\}$<br>\n",
    "- $\\textbf{A}\\cup(\\textbf{B}\\cap\\textbf{A}^c)=\\{ 1, 2, 3, 5, 6, 7, 8, 9\\}$<br>\n",
    "- $\\textbf{A}\\cup\\textbf{B}=\\textbf{A}\\cup(\\textbf{B}\\cap\\textbf{A}^c)$<br>\n",
    "### 5.     $(\\cup_{i=1}^{\\infty} A_{i}^{c})^{c}$ = $\\cap_{i=1}^{\\infty}A_{i}$\n",
    "- This equation is saying that the complement of the union of the complements of sets $A_{i}$ is equal to the intersection of sets $A_{i}$\n",
    "This statement is a specific example of De Morgan's Laws in set theory, which describe how to express the complement of set operations. The equation is a mathematical identity that holds true for any collection of sets \n",
    "- $(\\cup_{i=1}^{\\infty} A_{i}^{c})^{c}$ = $\\cap_{i=1}^{\\infty}A_{i}$\n",
    "### 6.     $|\\textbf{A}\\cup \\textbf{B}| = |\\textbf{A}|+|\\textbf{B}|-|\\textbf{A}\\cap \\textbf{B}|$<br>\n",
    "- $\\textbf{A}\\cup\\textbf{B}=\\{ 1, 2, 3, 5, 6, 7, 8, 9\\}$<br>\n",
    "- $\\textbf{A}\\cap\\textbf{B}=\\{7\\}$<br>\n",
    "- $|\\textbf{A}\\cup\\textbf{B}|= 8$<br>\n",
    "- $|\\textbf{A}|= 4$<br>\n",
    "- $|\\textbf{B}|= 5$<br>\n",
    "- $|\\textbf{A}\\cap\\textbf{B}|= 1$<br>\n",
    "- $|\\textbf{A}|+|\\textbf{B}|-|\\textbf{A}\\cap\\textbf{B}|= 4 + 5 - 1 = 8$<br>"
   ]
  },
  {
   "cell_type": "markdown",
   "id": "ed4be96c",
   "metadata": {},
   "source": [
    "# 2: Sets and Subsets\n",
    "# A. \n",
    "$\\textbf{A}=\\{ 2, 3, 4, 5\\} \\ and \\ \\textbf{B}=\\{x \\in \\mathbb\\{N\\} | x  is  even\\}$<br>\n",
    "&nbsp;&nbsp;&nbsp;&nbsp;.\n",
    "is $\\textbf{A}\\subset\\textbf{B}$? NO\n",
    "&nbsp;&nbsp;&nbsp;&nbsp;\n",
    "A has $\\textbf{A}=\\{3, 5\\}$ which are odd numbers which does not satisfy B which says x is an even number.<br>\n",
    "&nbsp;&nbsp;&nbsp;&nbsp;\n",
    "# B.\n",
    "&nbsp;&nbsp;&nbsp;&nbsp;\n",
    "$\\textbf{A}=\\{x|x \\in \\mathbb\\{Z\\}, 0 \\leq x \\leq 9\\}$<br>\n",
    "&nbsp;&nbsp;&nbsp;&nbsp;\n",
    "$\\textbf{B}=\\{ 2, 4, 6, 8\\}$<br>\n",
    "&nbsp;&nbsp;&nbsp;&nbsp;\n",
    "$\\textbf{C}=\\{ 1, 3, 5, 7, 9\\}$<br>\n",
    "&nbsp;&nbsp;&nbsp;&nbsp;\n",
    "$\\textbf{D}=\\{ 3, 4, 5\\}$<br>\n",
    "&nbsp;&nbsp;&nbsp;&nbsp;\n",
    "1.$\\textbf{X} \\ and \\ \\textbf{B} \\ are \\ disjoint \\ $<br>\n",
    "&nbsp;&nbsp;&nbsp;&nbsp;\n",
    "$\\textbf{X} = \\textbf{B}^c$<br>\n",
    "&nbsp;&nbsp;&nbsp;&nbsp;\n",
    "2.$\\textbf{X} \\subseteq \\textbf{D} \\ but \\ \\textbf{X} \\nsubseteq \\textbf{B}$<br>\n",
    "&nbsp;&nbsp;&nbsp;&nbsp;\n",
    "$\\textbf{X} = \\{\\emptyset,3,5\\}$<br>\n",
    "&nbsp;&nbsp;&nbsp;&nbsp;\n",
    "3.$\\textbf{X} \\subseteq \\textbf{A} \\ but \\ \\textbf{X} \\not\\subset \\textbf{C}$<br>\n",
    "&nbsp;&nbsp;&nbsp;&nbsp;\n",
    "$\\textbf{X} = \\{ \\emptyset, 0, 2, 4, 6, 8\\}$<br>\n",
    "&nbsp;&nbsp;&nbsp;&nbsp;\n",
    "$\\textbf{X}=\\{ \\emptyset\\}$"
   ]
  },
  {
   "cell_type": "markdown",
   "id": "c3586a77",
   "metadata": {},
   "source": [
    "# 3: Set Operations\n",
    "a. $\\textbf{C}\\oplus \\textbf{D}$<br>\n",
    "   &nbsp;&nbsp;&nbsp;&nbsp;\n",
    "   C = {5,6,7,8,9}<br>\n",
    "   &nbsp;&nbsp;&nbsp;&nbsp;\n",
    "   D = {1,3,5,7,9}<br>\n",
    "   &nbsp;&nbsp;&nbsp;&nbsp;\n",
    "   $\\textbf{C}\\oplus\\textbf{D}=(\\textbf{C}\\cup\\textbf{D})\\setminus(\\textbf{C}\\cap\\textbf{D})=(\\textbf{C}\\setminus\\textbf{D})\\cup(\\textbf{D}\\setminus\\textbf{C})$<br>\n",
    "   &nbsp;&nbsp;&nbsp;&nbsp;\n",
    "   Therefore, $\\textbf{C}\\oplus \\textbf{D}$ = { 1, 3, 6, 8}<br>\n",
    "   \n",
    "   \n",
    "\n",
    "b. $\\textbf{A}\\setminus \\textbf{B}$<br>\n",
    "   &nbsp;&nbsp;&nbsp;&nbsp;\n",
    "   A = {1,2,3,4,5}<br>\n",
    "   &nbsp;&nbsp;&nbsp;&nbsp;\n",
    "   B = {4,5,6,7}<br>\n",
    "   &nbsp;&nbsp;&nbsp;&nbsp;\n",
    "   $\\textbf{A}\\setminus \\textbf{B}$  is read as \" A minus B \"<br>\n",
    "   &nbsp;&nbsp;&nbsp;&nbsp;\n",
    "   Therefore, $\\textbf{A}\\setminus \\textbf{B}$ = { 1, 2, 3}<br>\n",
    "   &nbsp;&nbsp;&nbsp;&nbsp;\n",
    "\n",
    "c. $\\textbf{B}\\setminus \\textbf{A}$\n",
    "   <br>&nbsp;&nbsp;&nbsp;&nbsp;\n",
    "   A = { 1,2,3,4,5}<br>\n",
    "   &nbsp;&nbsp;&nbsp;&nbsp;\n",
    "   B = {4,5,6,7}<br>\n",
    "   &nbsp;&nbsp;&nbsp;&nbsp;\n",
    "   $\\textbf{B}\\setminus \\textbf{A}$  is read as \" B minus A \"<br>\n",
    "   &nbsp;&nbsp;&nbsp;&nbsp;\n",
    "   Therefore, $\\textbf{B}\\setminus \\textbf{A}$ = { 6, 7}<br>\n",
    "   &nbsp;&nbsp;&nbsp;&nbsp;\n",
    "\n",
    "d. $\\textbf{E}\\oplus \\textbf{F}$\n",
    "   <br>&nbsp;&nbsp;&nbsp;&nbsp;\n",
    "   E = {2,4,6,8}\n",
    "   <br>&nbsp;&nbsp;&nbsp;&nbsp;\n",
    "   F = {1,5,9}\n",
    "   <br>&nbsp;&nbsp;&nbsp;&nbsp;\n",
    "   $\\textbf{E}\\oplus\\textbf{F}=(\\textbf{E}\\cup\\textbf{F})\\setminus(\\textbf{E}\\cap\\textbf{F})=(\\textbf{E}\\setminus\\textbf{F})\\cup(\\textbf{F}\\setminus\\textbf{E})$<br>\n",
    "   &nbsp;&nbsp;&nbsp;&nbsp;\n",
    "   Therefore, $\\textbf{E}\\oplus \\textbf{F}$ = { 1, 2, 4, 5, 6, 8, 9}<br>\n",
    "   &nbsp;&nbsp;&nbsp;&nbsp;\n"
   ]
  },
  {
   "cell_type": "code",
   "execution_count": 26,
   "id": "f97b513b",
   "metadata": {},
   "outputs": [
    {
     "name": "stdout",
     "output_type": "stream",
     "text": [
      "𝐂⊕𝐃 = {1, 3, 6, 8}\n",
      "𝐀∖𝐁 = {1, 2, 3}\n",
      "𝐁∖𝐀 = {6, 7}\n",
      "𝐄⊕𝐅 = {1, 2, 4, 5, 6, 8, 9}\n"
     ]
    }
   ],
   "source": [
    "U = {1,2,3,4,5}\n",
    "A = {1,2,3,4,5}\n",
    "B = {4,5,6,7}\n",
    "C = {5,6,7,8,9}\n",
    "D = {1,3,5,7,9}\n",
    "E = {2,4,6,8}\n",
    "F = {1,5,9}\n",
    "print(f\"𝐂⊕𝐃 = {C ^ D}\")\n",
    "print(f\"𝐀∖𝐁 = {A - B}\")\n",
    "print(f\"𝐁∖𝐀 = {B - A}\")\n",
    "print(f\"𝐄⊕𝐅 = {E ^ F}\")"
   ]
  },
  {
   "cell_type": "markdown",
   "id": "e0ef7ada",
   "metadata": {},
   "source": [
    "# 4: Finite Sets and The Counting Principles"
   ]
  },
  {
   "cell_type": "code",
   "execution_count": 27,
   "id": "5a44c7f1",
   "metadata": {},
   "outputs": [
    {
     "name": "stdout",
     "output_type": "stream",
     "text": [
      "Number of people who read at least one magazine: 100\n",
      "Number of people who read exactly one magazine: 56\n"
     ]
    },
    {
     "data": {
      "image/png": "[encoded data removed]",
      "text/plain": [
       "<Figure size 640x480 with 1 Axes>"
      ]
     },
     "metadata": {},
     "output_type": "display_data"
    }
   ],
   "source": [
    "people = 120\n",
    "newsweekMagazine = 65\n",
    "timesMagazine = 45\n",
    "fortuneMagazine = 42\n",
    "newsweekTimesMagazine = 20\n",
    "newsweekFortuneMagazine = 25\n",
    "timesFortuneMagazine = 15\n",
    "allMagazines = 8\n",
    "\n",
    "ABC = allMagazines \n",
    "AB = newsweekTimesMagazine - ABC\n",
    "AC = newsweekFortuneMagazine - ABC\n",
    "BC = timesFortuneMagazine - ABC\n",
    "A = newsweekMagazine - AB - AC - ABC\n",
    "B = timesMagazine - AB - BC - ABC\n",
    "C = fortuneMagazine - AC - BC - ABC\n",
    "\n",
    "atLeastOneReader = ((A+B+C+AB+AC+BC+ABC))\n",
    "oneReader = (A+B+C)\n",
    "\n",
    "venn = venn3(subsets=(A, B, AB, C, AC, BC, ABC),\n",
    "             set_labels=('Newsweek Magazine', 'Times Magazine', 'Fortune Magazine'))\n",
    "\n",
    "print(\"Number of people who read at least one magazine:\", atLeastOneReader)\n",
    "print(\"Number of people who read exactly one magazine:\", oneReader)"
   ]
  },
  {
   "cell_type": "code",
   "execution_count": 4,
   "id": "6269b920",
   "metadata": {},
   "outputs": [
    {
     "data": {
      "image/png": "[encoded data removed]",
      "text/plain": [
       "<Figure size 640x480 with 1 Axes>"
      ]
     },
     "metadata": {},
     "output_type": "display_data"
    },
    {
     "name": "stdout",
     "output_type": "stream",
     "text": [
      "Number of cars with Window only: 5\n",
      "Number of cars with AirConditioning only: 4\n",
      "Number of cars with Radio only: 2\n",
      "Number of cars with both Radio and Window but not AirConditioning: 1\n",
      "Number of cars with both AirConditioning and Radio but not Window: 6\n",
      "Number of cars with only one of the options: 11\n",
      "Number of cars with at least one option: 23\n",
      "Number of cars with none of the options: 2\n"
     ]
    }
   ],
   "source": [
    "totalCars = 25\n",
    "hasAirConditioning = 15\n",
    "hasRadio = 12\n",
    "hasWindow = 11\n",
    "hasAirConditioningWindow = 5\n",
    "hasAirConditioningRadio = 9\n",
    "hasRadioWindow = 4\n",
    "hasAirConditioningRadioWindow = 3\n",
    "\n",
    "ABC = hasAirConditioningRadioWindow\n",
    "AB = hasAirConditioningRadio - ABC\n",
    "AC = hasAirConditioningWindow - ABC\n",
    "BC = hasRadioWindow - ABC\n",
    "A = hasAirConditioning - AB - AC - ABC\n",
    "B = hasRadio - AB - BC - ABC\n",
    "C = hasWindow - AC - BC - ABC\n",
    "\n",
    "venn = venn3(subsets=(A, B, AB, C, AC, BC, ABC),\n",
    "             set_labels=('Air-Conditioning', 'Radio', 'Power Windows'))\n",
    "\n",
    "plt.title(\"Car Option Venn Diagram\")\n",
    "plt.show()\n",
    "\n",
    "print(\"Number of cars with Window only:\", C)\n",
    "print(\"Number of cars with AirConditioning only:\", A)\n",
    "print(\"Number of cars with Radio only:\", B)\n",
    "print(\"Number of cars with both Radio and Window but not AirConditioning:\", BC)\n",
    "print(\"Number of cars with both AirConditioning and Radio but not Window:\", AB)\n",
    "print(\"Number of cars with only one of the options:\", (A+B+C))\n",
    "print(\"Number of cars with at least one option:\", (A+B+C+AB+AC+BC+ABC))\n",
    "print(\"Number of cars with none of the options:\", (totalCars-(A+B+C+AB+AC+BC+ABC)))"
   ]
  },
  {
   "cell_type": "code",
   "execution_count": null,
   "id": "322506f5",
   "metadata": {},
   "outputs": [],
   "source": []
  }
 ],
 "metadata": {
  "kernelspec": {
   "display_name": "Python 3 (ipykernel)",
   "language": "python",
   "name": "python3"
  },
  "language_info": {
   "codemirror_mode": {
    "name": "ipython",
    "version": 3
   },
   "file_extension": ".py",
   "mimetype": "text/x-python",
   "name": "python",
   "nbconvert_exporter": "python",
   "pygments_lexer": "ipython3",
   "version": "3.11.4"
  }
 },
 "nbformat": 4,
 "nbformat_minor": 5
}
